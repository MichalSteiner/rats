{
 "cells": [
  {
   "cell_type": "markdown",
   "metadata": {},
   "source": [
    "### Purpose\n",
    "This notebook is an example on how to do Rossiter-McLaughlin analysis using the Revolutions method (Bourrier+2021). Please read first the transmission_spectroscopy_example to get some understanding on the common set of functions, here they will be only very quickly gone through.\n"
   ]
  },
  {
   "cell_type": "markdown",
   "metadata": {},
   "source": [
    "### Setup routine\n",
    "Same as for transmission spectroscopy."
   ]
  },
  {
   "cell_type": "code",
   "execution_count": null,
   "metadata": {},
   "outputs": [],
   "source": [
    "import rats.single_use as su\n",
    "\n",
    "data_directory = '/media/chamaeleontis/Observatory_main/Data_all_raw/WASP_31_b'\n",
    "main_directory = '/media/chamaeleontis/Observatory_main/Analysis_dataset/WASP-31'\n",
    "save_directory = main_directory + '/saved_data'\n",
    "figure_directory = main_directory + '/figures'\n",
    "\n",
    "su.setup_routine(original_directory= data_directory,\n",
    "                 main_directory= main_directory,\n",
    "                 )\n",
    "os.chdir(main_directory)"
   ]
  },
  {
   "cell_type": "markdown",
   "metadata": {},
   "source": [
    "### System parameters\n",
    "Same as for transmission spectroscopy, only added different function for light curve model."
   ]
  },
  {
   "cell_type": "code",
   "execution_count": null,
   "metadata": {},
   "outputs": [],
   "source": [
    "system_parameters = para.SystemParametersComposite(\n",
    "    filename= save_directory + '/system_parameters.pkl'\n",
    "    )\n",
    "system_parameters.load_NASA_CompositeTable_values(planet_name='WASP-31 b',\n",
    "                                                  force_load= True)\n",
    "\n",
    "system_parameters.print_main_values()\n",
    "system_parameters.model_light_curve()"
   ]
  },
  {
   "cell_type": "markdown",
   "metadata": {},
   "source": [
    "### Loading and filtering data\n",
    "Same as for transmission spectroscopy."
   ]
  },
  {
   "cell_type": "code",
   "execution_count": null,
   "metadata": {},
   "outputs": [],
   "source": [
    "data_raw_A = eso.load_all(main_directory= main_directory,\n",
    "                          spectra_format= 'CCF_SKYSUB',\n",
    "                          fiber= 'A',\n",
    "                          force_skip = False,\n",
    "                          force_load = False,\n",
    "                          pkl_name= 'data_raw_CCF_SKYSUB.pkl'\n",
    "                          )\n",
    "data_raw_A = sm.get_sublist(data_raw_A, 'Average_S_N', 10, mode='more')\n",
    "data_raw_A = sm.get_sublist(data_raw_A, 'instrument', 'ESPRESSO', mode='equal')\n"
   ]
  },
  {
   "cell_type": "markdown",
   "metadata": {},
   "source": [
    "### Cleaning spectra, sorting, meta dictionary\n",
    "Same as for transmission spectroscopy"
   ]
  },
  {
   "cell_type": "code",
   "execution_count": null,
   "metadata": {},
   "outputs": [],
   "source": [
    "data_raw_A = sm.sort_spectrum_list(data_raw_A,\n",
    "                               force_skip = force_skip\n",
    "                               )\n",
    "data_raw_A = sm.binning_list(data_raw_A)\n",
    "system_parameters.spectra_transit_flags(data_raw_A)\n",
    "system_parameters.calculate_velocities_list(data_raw_A)\n",
    "system_parameters.add_velocity_system_in_list(data_raw_A)\n",
    "system_parameters.add_transit_depth_value(data_raw_A)\n"
   ]
  },
  {
   "cell_type": "markdown",
   "metadata": {},
   "source": [
    "### Normalize CCF list\n",
    "Here, the principle behind the function is same, but different function is used. This is because underlying algorithm is different. "
   ]
  },
  {
   "cell_type": "code",
   "execution_count": null,
   "metadata": {},
   "outputs": [],
   "source": [
    "import rats.analysis.rm as rm\n",
    "data_normalized = rm.normalize_CCF_list(data_raw_A)"
   ]
  },
  {
   "cell_type": "markdown",
   "metadata": {},
   "source": [
    "### Calculation of systemic velocity\n",
    "Systemic velocity can be slightly different between nights, so we measure it on the CCF master out spectra. \n",
    "\n",
    "The `rm.calculate_systemic_velocity` fits the master out with Gaussian, and provides the center of it as systemic velocity, including the uncertainty. This velocity is then removed from the data by `rm.remove_systemic_velocity`. `sm.shift_list` cannot be used for small arrays where we shift by non-negligible amount of pixels with respect to the full array (the case for CCF default files)."
   ]
  },
  {
   "cell_type": "code",
   "execution_count": null,
   "metadata": {},
   "outputs": [],
   "source": [
    "import rats.spectra_manipulation as sm\n",
    "\n",
    "data_SRF = sm.shift_list(data_normalized,\n",
    "                         shift_BERV=0,\n",
    "                         shift_v_sys = 0,# No systemic velocity shift\n",
    "                         shift_v_star = 1,\n",
    "                         shift_v_planet = 0,\n",
    "                         )\n",
    "master_SRF_system = sm.calculate_master_list(data_SRF,\n",
    "                                          key = 'Transit_partial',\n",
    "                                          value =False,\n",
    "                                          )\n",
    "\n",
    "rm.calculate_systemic_velocity(master_SRF_system, data_SRF)\n",
    "data_SRF = rm.remove_systemic_velocity(data_SRF)\n",
    "# Rebin to the same wavelength grid, as the previous function removes this\n",
    "data_SRF = sm.binning_list(data_SRF)"
   ]
  },
  {
   "cell_type": "markdown",
   "metadata": {},
   "source": [
    "### Calculation of residual and intrinsic CCFs\n",
    "Residual and intrinsic CCFs are calculated using the master out spectrum in the rest frame of the star. It is implemented in the `rm.subtract_master_out` function.\n"
   ]
  },
  {
   "cell_type": "code",
   "execution_count": null,
   "metadata": {},
   "outputs": [],
   "source": [
    "master_SRF_out = sm.calculate_master_list(data_SRF,\n",
    "                                          key = 'Transit_partial',\n",
    "                                          value =False,\n",
    "                                          )\n",
    "CCF_residual, CCF_intrinsic = rm.subtract_master_out(data_SRF ,master_SRF_out)"
   ]
  },
  {
   "cell_type": "markdown",
   "metadata": {},
   "source": [
    "### Characterize the quality of the local CCF distribution\n",
    "First, we need to ensure all the intrinsic CCFs are of good quality. Typically, few needs to be removed from the analysis, particularly at the ingress/egress.\n",
    "\n",
    "`rm.MCMC_model_local_CCF_list` performs a MCMC fit to each in transit CCF, to get the distribution of the Gaussian profile. Only Gaussian profile is provided for now."
   ]
  },
  {
   "cell_type": "code",
   "execution_count": null,
   "metadata": {},
   "outputs": [],
   "source": [
    "data_chain_list = rm.MCMC_model_local_CCF_list (CCF_intrinsic)"
   ]
  },
  {
   "cell_type": "markdown",
   "metadata": {},
   "source": [
    "### Revolutions analysis\n",
    "Now, after confirming the quality of the data, we can run the full analysis of the dataset using the Revolutions method. To do so, run `rm.MCMC_model_Revolutions`."
   ]
  },
  {
   "cell_type": "code",
   "execution_count": null,
   "metadata": {},
   "outputs": [],
   "source": [
    "result = rm.MCMC_model_Revolutions(\n",
    "    system_parameters= system_parameters,\n",
    "    CCF_intrinsic_list= CCF_intrinsic,\n",
    "    )"
   ]
  },
  {
   "cell_type": "markdown",
   "metadata": {},
   "source": [
    "### Final remarks:\n",
    "This is a short example on how to run the pipeline. More filtering and cleaning steps might be needed for your analysis. Proceed with caution.\n"
   ]
  }
 ],
 "metadata": {
  "kernelspec": {
   "display_name": ".venv",
   "language": "python",
   "name": "python3"
  },
  "language_info": {
   "name": "python",
   "version": "3.10.12"
  }
 },
 "nbformat": 4,
 "nbformat_minor": 2
}
